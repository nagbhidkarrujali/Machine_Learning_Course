{
 "cells": [
  {
   "attachments": {},
   "cell_type": "markdown",
   "metadata": {},
   "source": [
    "\n",
    "## Ex1: Participant Exercise\n",
    "Download the daily stock price of four or five randomly selected stocks from very different sectors or industries for the last 6 months. (Each of these stocks should have been taken from different industry sectors.)\n",
    "\n",
    "- Find out the outlier events (date and the gain or loss) for each of these stocks based on box plot analysis.\n",
    "- Find out the correlation of daily gains of each of these stocks.\n",
    "- Draw the scatter plots and the heatmap."
   ]
  },
  {
   "cell_type": "code",
   "execution_count": 1,
   "metadata": {},
   "outputs": [],
   "source": [
    "import pandas as pd\n",
    "import matplotlib.pyplot as plt\n",
    "import seaborn as sn\n",
    "from scipy import stats"
   ]
  },
  {
   "attachments": {},
   "cell_type": "markdown",
   "metadata": {},
   "source": [
    "#### Daily Data Of Sensex\n",
    "- For the period of **23 September 2022 to 23 March 2023**"
   ]
  },
  {
   "cell_type": "code",
   "execution_count": 2,
   "metadata": {},
   "outputs": [
    {
     "name": "stderr",
     "output_type": "stream",
     "text": [
      "C:\\Users\\ATHARVA\\AppData\\Local\\Temp\\ipykernel_4656\\1660109477.py:1: UserWarning: Could not infer format, so each element will be parsed individually, falling back to `dateutil`. To ensure parsing is consistent and as-expected, please specify a format.\n",
      "  sensex = pd.read_csv(\"E:\\ML_course\\practice\\S2_Statastical_Interferance_(part 2)\\sensex.csv\", parse_dates=['Date'])\n"
     ]
    },
    {
     "data": {
      "text/html": [
       "<div>\n",
       "<style scoped>\n",
       "    .dataframe tbody tr th:only-of-type {\n",
       "        vertical-align: middle;\n",
       "    }\n",
       "\n",
       "    .dataframe tbody tr th {\n",
       "        vertical-align: top;\n",
       "    }\n",
       "\n",
       "    .dataframe thead th {\n",
       "        text-align: right;\n",
       "    }\n",
       "</style>\n",
       "<table border=\"1\" class=\"dataframe\">\n",
       "  <thead>\n",
       "    <tr style=\"text-align: right;\">\n",
       "      <th></th>\n",
       "      <th>Close</th>\n",
       "      <th>Open</th>\n",
       "      <th>gain</th>\n",
       "    </tr>\n",
       "    <tr>\n",
       "      <th>Date</th>\n",
       "      <th></th>\n",
       "      <th></th>\n",
       "      <th></th>\n",
       "    </tr>\n",
       "  </thead>\n",
       "  <tbody>\n",
       "    <tr>\n",
       "      <th>2022-09-23</th>\n",
       "      <td>58098.92</td>\n",
       "      <td>59005.18</td>\n",
       "      <td>-1.535899</td>\n",
       "    </tr>\n",
       "    <tr>\n",
       "      <th>2022-09-26</th>\n",
       "      <td>57145.22</td>\n",
       "      <td>57525.03</td>\n",
       "      <td>-0.660252</td>\n",
       "    </tr>\n",
       "    <tr>\n",
       "      <th>2022-09-27</th>\n",
       "      <td>57107.52</td>\n",
       "      <td>57376.52</td>\n",
       "      <td>-0.468833</td>\n",
       "    </tr>\n",
       "    <tr>\n",
       "      <th>2022-09-28</th>\n",
       "      <td>56598.28</td>\n",
       "      <td>56710.13</td>\n",
       "      <td>-0.197231</td>\n",
       "    </tr>\n",
       "    <tr>\n",
       "      <th>2022-09-29</th>\n",
       "      <td>56409.96</td>\n",
       "      <td>56997.90</td>\n",
       "      <td>-1.031512</td>\n",
       "    </tr>\n",
       "    <tr>\n",
       "      <th>...</th>\n",
       "      <td>...</td>\n",
       "      <td>...</td>\n",
       "      <td>...</td>\n",
       "    </tr>\n",
       "    <tr>\n",
       "      <th>2023-03-17</th>\n",
       "      <td>57989.90</td>\n",
       "      <td>58038.17</td>\n",
       "      <td>-0.083169</td>\n",
       "    </tr>\n",
       "    <tr>\n",
       "      <th>2023-03-20</th>\n",
       "      <td>57628.95</td>\n",
       "      <td>57773.55</td>\n",
       "      <td>-0.250288</td>\n",
       "    </tr>\n",
       "    <tr>\n",
       "      <th>2023-03-21</th>\n",
       "      <td>58074.68</td>\n",
       "      <td>57963.27</td>\n",
       "      <td>0.192208</td>\n",
       "    </tr>\n",
       "    <tr>\n",
       "      <th>2023-03-22</th>\n",
       "      <td>58214.59</td>\n",
       "      <td>58245.26</td>\n",
       "      <td>-0.052657</td>\n",
       "    </tr>\n",
       "    <tr>\n",
       "      <th>2023-03-23</th>\n",
       "      <td>57925.28</td>\n",
       "      <td>58061.41</td>\n",
       "      <td>-0.234459</td>\n",
       "    </tr>\n",
       "  </tbody>\n",
       "</table>\n",
       "<p>125 rows × 3 columns</p>\n",
       "</div>"
      ],
      "text/plain": [
       "               Close      Open      gain\n",
       "Date                                    \n",
       "2022-09-23  58098.92  59005.18 -1.535899\n",
       "2022-09-26  57145.22  57525.03 -0.660252\n",
       "2022-09-27  57107.52  57376.52 -0.468833\n",
       "2022-09-28  56598.28  56710.13 -0.197231\n",
       "2022-09-29  56409.96  56997.90 -1.031512\n",
       "...              ...       ...       ...\n",
       "2023-03-17  57989.90  58038.17 -0.083169\n",
       "2023-03-20  57628.95  57773.55 -0.250288\n",
       "2023-03-21  58074.68  57963.27  0.192208\n",
       "2023-03-22  58214.59  58245.26 -0.052657\n",
       "2023-03-23  57925.28  58061.41 -0.234459\n",
       "\n",
       "[125 rows x 3 columns]"
      ]
     },
     "execution_count": 2,
     "metadata": {},
     "output_type": "execute_result"
    }
   ],
   "source": [
    "sensex = pd.read_csv(\"E:\\ML_course\\practice\\S2_Statastical_Interferance_(part 2)\\sensex.csv\", parse_dates=['Date'])\n",
    "sensex = sensex.set_index(['Date'], drop=True)\n",
    "sensex.sort_index(ascending = True, inplace=True)\n",
    "sensex['gain'] = ((sensex['Close'] - sensex['Open']) * 100 /sensex['Open'])\n",
    "sensex[['Close','Open','gain']]"
   ]
  },
  {
   "attachments": {},
   "cell_type": "markdown",
   "metadata": {},
   "source": [
    "### Datasets \n",
    "\n",
    "We will use the following real world data for this notebook.\n",
    "\n",
    "- Daily movement of sectoral indices.\n",
    "    - Banks - HDFC bank\n",
    "    - Metal - JSW steel\n",
    "    - Healthcare - MAX HealthCare\n",
    "    - Tech - Persistant\n",
    "    - Car - TATA Motors\n",
    "- For the period of **23 September 2022 to 23 March 2023**\n",
    "- The dails stock price data can be downloaded from **BSE India Site**\n",
    "\n",
    "https://www.bseindia.com/indices/IndexArchiveData.html"
   ]
  },
  {
   "cell_type": "code",
   "execution_count": 3,
   "metadata": {},
   "outputs": [],
   "source": [
    "path = 'E:\\ML_course\\practice\\S2_Statastical_Interferance_(part 2)/'"
   ]
  },
  {
   "cell_type": "code",
   "execution_count": 4,
   "metadata": {},
   "outputs": [],
   "source": [
    "def Gain( filename ):\n",
    "    df = pd.read_csv(filename, index_col = False, parse_dates=['Date'])\n",
    "    df = df.set_index(['Date'], drop=True)\n",
    "    df.sort_index(ascending = True, inplace=True)\n",
    "    df['gain'] = ((df['Close Price'] - df['Open Price']) * 100 /df['Open Price'])\n",
    "\n",
    "    return df[['Close Price', 'Open Price', 'gain']]"
   ]
  },
  {
   "cell_type": "code",
   "execution_count": 5,
   "metadata": {},
   "outputs": [],
   "source": [
    "max = Gain(path+\"max_healthcare.csv\")\n",
    "hdfc = Gain(path+\"hdfc_bank.csv\")\n",
    "persis = Gain(path+\"persistant.csv\")\n",
    "tata = Gain(path+\"tata_motors.csv\")\n",
    "steel = Gain(path+\"jsw_steel.csv\")"
   ]
  },
  {
   "cell_type": "code",
   "execution_count": 6,
   "metadata": {},
   "outputs": [],
   "source": [
    "sensex['max_gain'] = max['gain']\n",
    "sensex['hdfc_gain'] = hdfc['gain']\n",
    "sensex['persis_gain'] = persis['gain']\n",
    "sensex['tata_gain'] = tata['gain']\n",
    "sensex['steel_gain'] = steel['gain']"
   ]
  },
  {
   "cell_type": "code",
   "execution_count": 7,
   "metadata": {},
   "outputs": [
    {
     "data": {
      "text/html": [
       "<div>\n",
       "<style scoped>\n",
       "    .dataframe tbody tr th:only-of-type {\n",
       "        vertical-align: middle;\n",
       "    }\n",
       "\n",
       "    .dataframe tbody tr th {\n",
       "        vertical-align: top;\n",
       "    }\n",
       "\n",
       "    .dataframe thead th {\n",
       "        text-align: right;\n",
       "    }\n",
       "</style>\n",
       "<table border=\"1\" class=\"dataframe\">\n",
       "  <thead>\n",
       "    <tr style=\"text-align: right;\">\n",
       "      <th></th>\n",
       "      <th>Open</th>\n",
       "      <th>High</th>\n",
       "      <th>Low</th>\n",
       "      <th>Close</th>\n",
       "      <th>gain</th>\n",
       "      <th>max_gain</th>\n",
       "      <th>hdfc_gain</th>\n",
       "      <th>persis_gain</th>\n",
       "      <th>tata_gain</th>\n",
       "      <th>steel_gain</th>\n",
       "    </tr>\n",
       "    <tr>\n",
       "      <th>Date</th>\n",
       "      <th></th>\n",
       "      <th></th>\n",
       "      <th></th>\n",
       "      <th></th>\n",
       "      <th></th>\n",
       "      <th></th>\n",
       "      <th></th>\n",
       "      <th></th>\n",
       "      <th></th>\n",
       "      <th></th>\n",
       "    </tr>\n",
       "  </thead>\n",
       "  <tbody>\n",
       "    <tr>\n",
       "      <th>2022-09-23</th>\n",
       "      <td>59005.18</td>\n",
       "      <td>59143.32</td>\n",
       "      <td>57981.95</td>\n",
       "      <td>58098.92</td>\n",
       "      <td>-1.535899</td>\n",
       "      <td>-0.419972</td>\n",
       "      <td>-0.498063</td>\n",
       "      <td>-2.603715</td>\n",
       "      <td>-1.958285</td>\n",
       "      <td>-1.524413</td>\n",
       "    </tr>\n",
       "    <tr>\n",
       "      <th>2022-09-26</th>\n",
       "      <td>57525.03</td>\n",
       "      <td>57708.38</td>\n",
       "      <td>57038.24</td>\n",
       "      <td>57145.22</td>\n",
       "      <td>-0.660252</td>\n",
       "      <td>-1.811765</td>\n",
       "      <td>-1.859155</td>\n",
       "      <td>1.253185</td>\n",
       "      <td>-4.411058</td>\n",
       "      <td>-1.404580</td>\n",
       "    </tr>\n",
       "    <tr>\n",
       "      <th>2022-09-27</th>\n",
       "      <td>57376.52</td>\n",
       "      <td>57704.57</td>\n",
       "      <td>56950.52</td>\n",
       "      <td>57107.52</td>\n",
       "      <td>-0.468833</td>\n",
       "      <td>-0.672269</td>\n",
       "      <td>-0.733333</td>\n",
       "      <td>-0.878125</td>\n",
       "      <td>-1.042184</td>\n",
       "      <td>-1.040777</td>\n",
       "    </tr>\n",
       "    <tr>\n",
       "      <th>2022-09-28</th>\n",
       "      <td>56710.13</td>\n",
       "      <td>57213.33</td>\n",
       "      <td>56485.67</td>\n",
       "      <td>56598.28</td>\n",
       "      <td>-0.197231</td>\n",
       "      <td>-1.402439</td>\n",
       "      <td>-1.028945</td>\n",
       "      <td>0.713848</td>\n",
       "      <td>1.025316</td>\n",
       "      <td>-2.606841</td>\n",
       "    </tr>\n",
       "    <tr>\n",
       "      <th>2022-09-29</th>\n",
       "      <td>56997.90</td>\n",
       "      <td>57166.14</td>\n",
       "      <td>56314.05</td>\n",
       "      <td>56409.96</td>\n",
       "      <td>-1.031512</td>\n",
       "      <td>-1.302051</td>\n",
       "      <td>1.666667</td>\n",
       "      <td>-0.085113</td>\n",
       "      <td>-1.734245</td>\n",
       "      <td>-0.024252</td>\n",
       "    </tr>\n",
       "  </tbody>\n",
       "</table>\n",
       "</div>"
      ],
      "text/plain": [
       "                Open      High       Low     Close      gain  max_gain  \\\n",
       "Date                                                                     \n",
       "2022-09-23  59005.18  59143.32  57981.95  58098.92 -1.535899 -0.419972   \n",
       "2022-09-26  57525.03  57708.38  57038.24  57145.22 -0.660252 -1.811765   \n",
       "2022-09-27  57376.52  57704.57  56950.52  57107.52 -0.468833 -0.672269   \n",
       "2022-09-28  56710.13  57213.33  56485.67  56598.28 -0.197231 -1.402439   \n",
       "2022-09-29  56997.90  57166.14  56314.05  56409.96 -1.031512 -1.302051   \n",
       "\n",
       "            hdfc_gain  persis_gain  tata_gain  steel_gain  \n",
       "Date                                                       \n",
       "2022-09-23  -0.498063    -2.603715  -1.958285   -1.524413  \n",
       "2022-09-26  -1.859155     1.253185  -4.411058   -1.404580  \n",
       "2022-09-27  -0.733333    -0.878125  -1.042184   -1.040777  \n",
       "2022-09-28  -1.028945     0.713848   1.025316   -2.606841  \n",
       "2022-09-29   1.666667    -0.085113  -1.734245   -0.024252  "
      ]
     },
     "execution_count": 7,
     "metadata": {},
     "output_type": "execute_result"
    }
   ],
   "source": [
    "sensex.head(5)"
   ]
  },
  {
   "attachments": {},
   "cell_type": "markdown",
   "metadata": {},
   "source": [
    "### Finding outliers using box plot\n",
    "- A boxplot displays the distribution of data based on a five number summary (“minimum”, first quartile (Q1), median, third quartile (Q3), and “maximum”).\n",
    "##### Finding median, IQR, min and max values\n",
    "**IQR = Q3 – Q1**\n",
    "\n",
    "**Q1 is 25%**\n",
    "\n",
    "**Q3 is 75%**\n",
    "- Min = Q1 - 1.5*IQR\n",
    "- Max = Q3 + 1.5*IQR"
   ]
  },
  {
   "cell_type": "code",
   "execution_count": 8,
   "metadata": {},
   "outputs": [
    {
     "data": {
      "text/plain": [
       "(-5.291668544970364, -0.011367511651702028, 5.198454794491991)"
      ]
     },
     "execution_count": 8,
     "metadata": {},
     "output_type": "execute_result"
    }
   ],
   "source": [
    "# MAX Healthcare\n",
    "max.gain.median()\n",
    "max_gain_stats = max.gain.describe()\n",
    "max_gain_stats\n",
    "iqr_max = stats.iqr(max.gain)\n",
    "min_maxgain = max_gain_stats['25%'] - 1.5 * iqr_max\n",
    "max_maxgain = max_gain_stats['75%'] + 1.5 * iqr_max\n",
    "min_maxgain,max.gain.median(),max_maxgain"
   ]
  },
  {
   "cell_type": "code",
   "execution_count": 9,
   "metadata": {},
   "outputs": [
    {
     "data": {
      "text/plain": [
       "(-3.5613569974941894, -0.17302798982188758, 3.336155219913306)"
      ]
     },
     "execution_count": 9,
     "metadata": {},
     "output_type": "execute_result"
    }
   ],
   "source": [
    "# HDFC Bank \n",
    "hdfc.gain.median()\n",
    "hdfc_gain_stats = hdfc.gain.describe()\n",
    "hdfc_gain_stats\n",
    "iqr_hdfc = stats.iqr(hdfc.gain)\n",
    "min_hdfcgain = hdfc_gain_stats['25%'] - 1.5 * iqr_hdfc\n",
    "max_hdfcgain =hdfc_gain_stats['75%'] + 1.5 * iqr_hdfc\n",
    "min_hdfcgain,hdfc.gain.median(),max_hdfcgain"
   ]
  },
  {
   "cell_type": "code",
   "execution_count": 10,
   "metadata": {},
   "outputs": [
    {
     "data": {
      "text/plain": [
       "(-5.360013007060129, -0.2261794050448215, 5.401946943795377)"
      ]
     },
     "execution_count": 10,
     "metadata": {},
     "output_type": "execute_result"
    }
   ],
   "source": [
    "# Persistant\n",
    "persis.gain.median()\n",
    "persis_gain_stats = persis.gain.describe()\n",
    "persis_gain_stats\n",
    "iqr_persis = stats.iqr(persis.gain)\n",
    "min_persisgain = persis_gain_stats['25%'] - 1.5 * iqr_persis\n",
    "max_persisgain = persis_gain_stats['75%'] + 1.5 * iqr_persis\n",
    "min_persisgain,persis.gain.median(),max_persisgain"
   ]
  },
  {
   "cell_type": "code",
   "execution_count": 11,
   "metadata": {},
   "outputs": [
    {
     "data": {
      "text/plain": [
       "(-3.607982532818598, -0.2176541717049522, 3.127369233323694)"
      ]
     },
     "execution_count": 11,
     "metadata": {},
     "output_type": "execute_result"
    }
   ],
   "source": [
    "# TATA Motors\n",
    "tata.gain.median()\n",
    "tata_gain_stats = tata.gain.describe()\n",
    "tata_gain_stats\n",
    "iqr_tata = stats.iqr(tata.gain)\n",
    "min_tatagain = tata_gain_stats['25%'] - 1.5 * iqr_tata\n",
    "max_tatagain = tata_gain_stats['75%'] + 1.5 * iqr_tata\n",
    "min_tatagain,tata.gain.median(),max_tatagain"
   ]
  },
  {
   "cell_type": "code",
   "execution_count": 12,
   "metadata": {},
   "outputs": [
    {
     "data": {
      "text/plain": [
       "(-3.8014662148124314, 0.3391942406202472, 4.299107175724062)"
      ]
     },
     "execution_count": 12,
     "metadata": {},
     "output_type": "execute_result"
    }
   ],
   "source": [
    "# JSW Steel\n",
    "steel.gain.median()\n",
    "steel_gain_stats = steel.gain.describe()\n",
    "steel_gain_stats\n",
    "iqr_steel = stats.iqr(steel.gain)\n",
    "min_steelgain = steel_gain_stats['25%'] - 1.5 * iqr_steel\n",
    "max_steelgain = steel_gain_stats['75%'] + 1.5 * iqr_steel\n",
    "min_steelgain,steel.gain.median(),max_steelgain"
   ]
  },
  {
   "attachments": {},
   "cell_type": "markdown",
   "metadata": {},
   "source": [
    "### OUTLIERS"
   ]
  },
  {
   "cell_type": "code",
   "execution_count": 13,
   "metadata": {},
   "outputs": [
    {
     "data": {
      "text/html": [
       "<div>\n",
       "<style scoped>\n",
       "    .dataframe tbody tr th:only-of-type {\n",
       "        vertical-align: middle;\n",
       "    }\n",
       "\n",
       "    .dataframe tbody tr th {\n",
       "        vertical-align: top;\n",
       "    }\n",
       "\n",
       "    .dataframe thead th {\n",
       "        text-align: right;\n",
       "    }\n",
       "</style>\n",
       "<table border=\"1\" class=\"dataframe\">\n",
       "  <thead>\n",
       "    <tr style=\"text-align: right;\">\n",
       "      <th></th>\n",
       "      <th>Close Price</th>\n",
       "      <th>Open Price</th>\n",
       "      <th>gain</th>\n",
       "    </tr>\n",
       "    <tr>\n",
       "      <th>Date</th>\n",
       "      <th></th>\n",
       "      <th></th>\n",
       "      <th></th>\n",
       "    </tr>\n",
       "  </thead>\n",
       "  <tbody>\n",
       "    <tr>\n",
       "      <th>2022-10-31</th>\n",
       "      <td>455.9</td>\n",
       "      <td>432.0</td>\n",
       "      <td>5.532407</td>\n",
       "    </tr>\n",
       "  </tbody>\n",
       "</table>\n",
       "</div>"
      ],
      "text/plain": [
       "            Close Price  Open Price      gain\n",
       "Date                                         \n",
       "2022-10-31        455.9       432.0  5.532407"
      ]
     },
     "execution_count": 13,
     "metadata": {},
     "output_type": "execute_result"
    }
   ],
   "source": [
    "# MAX Healthcare\n",
    "max[max.gain > max_maxgain]\n"
   ]
  },
  {
   "cell_type": "code",
   "execution_count": 14,
   "metadata": {},
   "outputs": [
    {
     "data": {
      "text/html": [
       "<div>\n",
       "<style scoped>\n",
       "    .dataframe tbody tr th:only-of-type {\n",
       "        vertical-align: middle;\n",
       "    }\n",
       "\n",
       "    .dataframe tbody tr th {\n",
       "        vertical-align: top;\n",
       "    }\n",
       "\n",
       "    .dataframe thead th {\n",
       "        text-align: right;\n",
       "    }\n",
       "</style>\n",
       "<table border=\"1\" class=\"dataframe\">\n",
       "  <thead>\n",
       "    <tr style=\"text-align: right;\">\n",
       "      <th></th>\n",
       "      <th>Close Price</th>\n",
       "      <th>Open Price</th>\n",
       "      <th>gain</th>\n",
       "    </tr>\n",
       "    <tr>\n",
       "      <th>Date</th>\n",
       "      <th></th>\n",
       "      <th></th>\n",
       "      <th></th>\n",
       "    </tr>\n",
       "  </thead>\n",
       "  <tbody>\n",
       "    <tr>\n",
       "      <th>2022-11-24</th>\n",
       "      <td>572.45</td>\n",
       "      <td>550.0</td>\n",
       "      <td>4.081818</td>\n",
       "    </tr>\n",
       "    <tr>\n",
       "      <th>2023-01-03</th>\n",
       "      <td>595.50</td>\n",
       "      <td>568.0</td>\n",
       "      <td>4.841549</td>\n",
       "    </tr>\n",
       "    <tr>\n",
       "      <th>2023-02-08</th>\n",
       "      <td>508.40</td>\n",
       "      <td>483.3</td>\n",
       "      <td>5.193462</td>\n",
       "    </tr>\n",
       "    <tr>\n",
       "      <th>2023-03-21</th>\n",
       "      <td>482.70</td>\n",
       "      <td>467.0</td>\n",
       "      <td>3.361884</td>\n",
       "    </tr>\n",
       "  </tbody>\n",
       "</table>\n",
       "</div>"
      ],
      "text/plain": [
       "            Close Price  Open Price      gain\n",
       "Date                                         \n",
       "2022-11-24       572.45       550.0  4.081818\n",
       "2023-01-03       595.50       568.0  4.841549\n",
       "2023-02-08       508.40       483.3  5.193462\n",
       "2023-03-21       482.70       467.0  3.361884"
      ]
     },
     "execution_count": 14,
     "metadata": {},
     "output_type": "execute_result"
    }
   ],
   "source": [
    "# HDFC Bank\n",
    "hdfc[hdfc.gain > max_hdfcgain]"
   ]
  },
  {
   "cell_type": "code",
   "execution_count": 15,
   "metadata": {},
   "outputs": [
    {
     "data": {
      "text/html": [
       "<div>\n",
       "<style scoped>\n",
       "    .dataframe tbody tr th:only-of-type {\n",
       "        vertical-align: middle;\n",
       "    }\n",
       "\n",
       "    .dataframe tbody tr th {\n",
       "        vertical-align: top;\n",
       "    }\n",
       "\n",
       "    .dataframe thead th {\n",
       "        text-align: right;\n",
       "    }\n",
       "</style>\n",
       "<table border=\"1\" class=\"dataframe\">\n",
       "  <thead>\n",
       "    <tr style=\"text-align: right;\">\n",
       "      <th></th>\n",
       "      <th>Close Price</th>\n",
       "      <th>Open Price</th>\n",
       "      <th>gain</th>\n",
       "    </tr>\n",
       "    <tr>\n",
       "      <th>Date</th>\n",
       "      <th></th>\n",
       "      <th></th>\n",
       "      <th></th>\n",
       "    </tr>\n",
       "  </thead>\n",
       "  <tbody>\n",
       "    <tr>\n",
       "      <th>2022-10-06</th>\n",
       "      <td>3558.85</td>\n",
       "      <td>3350.05</td>\n",
       "      <td>6.232743</td>\n",
       "    </tr>\n",
       "    <tr>\n",
       "      <th>2023-01-19</th>\n",
       "      <td>4257.55</td>\n",
       "      <td>3959.55</td>\n",
       "      <td>7.526108</td>\n",
       "    </tr>\n",
       "    <tr>\n",
       "      <th>2023-01-23</th>\n",
       "      <td>4586.05</td>\n",
       "      <td>4315.20</td>\n",
       "      <td>6.276650</td>\n",
       "    </tr>\n",
       "  </tbody>\n",
       "</table>\n",
       "</div>"
      ],
      "text/plain": [
       "            Close Price  Open Price      gain\n",
       "Date                                         \n",
       "2022-10-06      3558.85     3350.05  6.232743\n",
       "2023-01-19      4257.55     3959.55  7.526108\n",
       "2023-01-23      4586.05     4315.20  6.276650"
      ]
     },
     "execution_count": 15,
     "metadata": {},
     "output_type": "execute_result"
    }
   ],
   "source": [
    "# Persistant\n",
    "persis[persis.gain > max_persisgain]"
   ]
  },
  {
   "cell_type": "code",
   "execution_count": 16,
   "metadata": {},
   "outputs": [
    {
     "data": {
      "text/html": [
       "<div>\n",
       "<style scoped>\n",
       "    .dataframe tbody tr th:only-of-type {\n",
       "        vertical-align: middle;\n",
       "    }\n",
       "\n",
       "    .dataframe tbody tr th {\n",
       "        vertical-align: top;\n",
       "    }\n",
       "\n",
       "    .dataframe thead th {\n",
       "        text-align: right;\n",
       "    }\n",
       "</style>\n",
       "<table border=\"1\" class=\"dataframe\">\n",
       "  <thead>\n",
       "    <tr style=\"text-align: right;\">\n",
       "      <th></th>\n",
       "      <th>Close Price</th>\n",
       "      <th>Open Price</th>\n",
       "      <th>gain</th>\n",
       "    </tr>\n",
       "    <tr>\n",
       "      <th>Date</th>\n",
       "      <th></th>\n",
       "      <th></th>\n",
       "      <th></th>\n",
       "    </tr>\n",
       "  </thead>\n",
       "  <tbody>\n",
       "    <tr>\n",
       "      <th>2023-01-10</th>\n",
       "      <td>413.05</td>\n",
       "      <td>399.3</td>\n",
       "      <td>3.443526</td>\n",
       "    </tr>\n",
       "    <tr>\n",
       "      <th>2023-01-24</th>\n",
       "      <td>422.10</td>\n",
       "      <td>409.1</td>\n",
       "      <td>3.177707</td>\n",
       "    </tr>\n",
       "  </tbody>\n",
       "</table>\n",
       "</div>"
      ],
      "text/plain": [
       "            Close Price  Open Price      gain\n",
       "Date                                         \n",
       "2023-01-10       413.05       399.3  3.443526\n",
       "2023-01-24       422.10       409.1  3.177707"
      ]
     },
     "execution_count": 16,
     "metadata": {},
     "output_type": "execute_result"
    }
   ],
   "source": [
    "#TATA Motors\n",
    "tata[tata.gain > max_tatagain]"
   ]
  },
  {
   "cell_type": "code",
   "execution_count": 17,
   "metadata": {},
   "outputs": [
    {
     "data": {
      "text/html": [
       "<div>\n",
       "<style scoped>\n",
       "    .dataframe tbody tr th:only-of-type {\n",
       "        vertical-align: middle;\n",
       "    }\n",
       "\n",
       "    .dataframe tbody tr th {\n",
       "        vertical-align: top;\n",
       "    }\n",
       "\n",
       "    .dataframe thead th {\n",
       "        text-align: right;\n",
       "    }\n",
       "</style>\n",
       "<table border=\"1\" class=\"dataframe\">\n",
       "  <thead>\n",
       "    <tr style=\"text-align: right;\">\n",
       "      <th></th>\n",
       "      <th>Close Price</th>\n",
       "      <th>Open Price</th>\n",
       "      <th>gain</th>\n",
       "    </tr>\n",
       "    <tr>\n",
       "      <th>Date</th>\n",
       "      <th></th>\n",
       "      <th></th>\n",
       "      <th></th>\n",
       "    </tr>\n",
       "  </thead>\n",
       "  <tbody>\n",
       "    <tr>\n",
       "      <th>2022-10-06</th>\n",
       "      <td>674.90</td>\n",
       "      <td>645.05</td>\n",
       "      <td>4.627548</td>\n",
       "    </tr>\n",
       "    <tr>\n",
       "      <th>2022-10-27</th>\n",
       "      <td>679.45</td>\n",
       "      <td>646.30</td>\n",
       "      <td>5.129197</td>\n",
       "    </tr>\n",
       "  </tbody>\n",
       "</table>\n",
       "</div>"
      ],
      "text/plain": [
       "            Close Price  Open Price      gain\n",
       "Date                                         \n",
       "2022-10-06       674.90      645.05  4.627548\n",
       "2022-10-27       679.45      646.30  5.129197"
      ]
     },
     "execution_count": 17,
     "metadata": {},
     "output_type": "execute_result"
    }
   ],
   "source": [
    "#JSW Steel\n",
    "steel[steel.gain > max_steelgain]"
   ]
  },
  {
   "attachments": {},
   "cell_type": "markdown",
   "metadata": {},
   "source": [
    "#### Scatter Plot between Sensex and Secotral Indexes"
   ]
  },
  {
   "cell_type": "code",
   "execution_count": 18,
   "metadata": {},
   "outputs": [
    {
     "data": {
      "image/png": "[encoded data removed]",
      "text/plain": [
       "<Figure size 900x400 with 1 Axes>"
      ]
     },
     "metadata": {},
     "output_type": "display_data"
    }
   ],
   "source": [
    "# MAX Healthcare\n",
    "plt.figure(figsize=(9, 4))\n",
    "sn.scatterplot(data = sensex, x = 'gain', y = 'max_gain');"
   ]
  },
  {
   "cell_type": "code",
   "execution_count": 19,
   "metadata": {},
   "outputs": [
    {
     "data": {
      "image/png": "[encoded data removed]",
      "text/plain": [
       "<Figure size 900x400 with 1 Axes>"
      ]
     },
     "metadata": {},
     "output_type": "display_data"
    }
   ],
   "source": [
    "# HDFC Bank\n",
    "plt.figure(figsize=(9, 4))\n",
    "sn.scatterplot(data = sensex, x = 'gain', y = 'hdfc_gain');"
   ]
  },
  {
   "cell_type": "code",
   "execution_count": 20,
   "metadata": {},
   "outputs": [
    {
     "data": {
      "image/png": "[encoded data removed]",
      "text/plain": [
       "<Figure size 900x400 with 1 Axes>"
      ]
     },
     "metadata": {},
     "output_type": "display_data"
    }
   ],
   "source": [
    "# Persistant\n",
    "plt.figure(figsize=(9, 4))\n",
    "sn.scatterplot(data = sensex, x = 'gain', y = 'persis_gain');"
   ]
  },
  {
   "cell_type": "code",
   "execution_count": 21,
   "metadata": {},
   "outputs": [
    {
     "data": {
      "image/png": "[encoded data removed]",
      "text/plain": [
       "<Figure size 900x400 with 1 Axes>"
      ]
     },
     "metadata": {},
     "output_type": "display_data"
    }
   ],
   "source": [
    "# TATA Motors\n",
    "plt.figure(figsize=(9, 4))\n",
    "sn.scatterplot(data = sensex, x = 'gain', y = 'tata_gain');"
   ]
  },
  {
   "cell_type": "code",
   "execution_count": 22,
   "metadata": {},
   "outputs": [
    {
     "data": {
      "image/png": "[encoded data removed]",
      "text/plain": [
       "<Figure size 900x400 with 1 Axes>"
      ]
     },
     "metadata": {},
     "output_type": "display_data"
    }
   ],
   "source": [
    "# JSW Steel\n",
    "plt.figure(figsize=(9, 4))\n",
    "sn.scatterplot(data = sensex, x = 'gain', y = 'steel_gain');"
   ]
  },
  {
   "attachments": {},
   "cell_type": "markdown",
   "metadata": {},
   "source": [
    "### Correlation (r)\n",
    "\n",
    "Correlation measures the extent to which two variables are linearly related (meaning they change together at a constant rate).\n",
    "- Three Types of correlation\n",
    "  - The closer the correlation is to zero, the weaker the linear relationship.\n",
    "  - Positive correlation values indicate a positive correlation, where the values of both variables tend to increase together.\n",
    "  - Negative correlation values indicate a negative correlation, where the values of one variable tend to increase when the values of the other variable decrease.\n",
    "\n",
    "Correlation is given by:\n",
    "\n",
    "$$\\frac{{}\\sum_{i=1}^{n} (x_i - \\overline{x})(y_i - \\overline{y})}\n",
    "{\\sigma_{x}\\sigma_{y}}$$\n",
    "\n",
    "This is also known as **Pearson Correlation**.\n",
    "\n",
    "- | r | < 0.25 - No relationship\n",
    "- 0.25 < | r | < 0.5 - Weak relationship\n",
    "- 0.5 < | r | < 0.75 - Moderate relationship\n",
    "- | r | > 0.75 - Strong relationship\n"
   ]
  },
  {
   "cell_type": "code",
   "execution_count": 23,
   "metadata": {},
   "outputs": [
    {
     "data": {
      "text/html": [
       "<div>\n",
       "<style scoped>\n",
       "    .dataframe tbody tr th:only-of-type {\n",
       "        vertical-align: middle;\n",
       "    }\n",
       "\n",
       "    .dataframe tbody tr th {\n",
       "        vertical-align: top;\n",
       "    }\n",
       "\n",
       "    .dataframe thead th {\n",
       "        text-align: right;\n",
       "    }\n",
       "</style>\n",
       "<table border=\"1\" class=\"dataframe\">\n",
       "  <thead>\n",
       "    <tr style=\"text-align: right;\">\n",
       "      <th></th>\n",
       "      <th>gain</th>\n",
       "      <th>max_gain</th>\n",
       "    </tr>\n",
       "  </thead>\n",
       "  <tbody>\n",
       "    <tr>\n",
       "      <th>gain</th>\n",
       "      <td>1.000000</td>\n",
       "      <td>0.069517</td>\n",
       "    </tr>\n",
       "    <tr>\n",
       "      <th>max_gain</th>\n",
       "      <td>0.069517</td>\n",
       "      <td>1.000000</td>\n",
       "    </tr>\n",
       "  </tbody>\n",
       "</table>\n",
       "</div>"
      ],
      "text/plain": [
       "              gain  max_gain\n",
       "gain      1.000000  0.069517\n",
       "max_gain  0.069517  1.000000"
      ]
     },
     "execution_count": 23,
     "metadata": {},
     "output_type": "execute_result"
    }
   ],
   "source": [
    "# MAX Healthcare\n",
    "sensex[['gain', 'max_gain']].corr()"
   ]
  },
  {
   "cell_type": "code",
   "execution_count": 24,
   "metadata": {},
   "outputs": [
    {
     "data": {
      "text/html": [
       "<div>\n",
       "<style scoped>\n",
       "    .dataframe tbody tr th:only-of-type {\n",
       "        vertical-align: middle;\n",
       "    }\n",
       "\n",
       "    .dataframe tbody tr th {\n",
       "        vertical-align: top;\n",
       "    }\n",
       "\n",
       "    .dataframe thead th {\n",
       "        text-align: right;\n",
       "    }\n",
       "</style>\n",
       "<table border=\"1\" class=\"dataframe\">\n",
       "  <thead>\n",
       "    <tr style=\"text-align: right;\">\n",
       "      <th></th>\n",
       "      <th>gain</th>\n",
       "      <th>hdfc_gain</th>\n",
       "    </tr>\n",
       "  </thead>\n",
       "  <tbody>\n",
       "    <tr>\n",
       "      <th>gain</th>\n",
       "      <td>1.000000</td>\n",
       "      <td>0.372009</td>\n",
       "    </tr>\n",
       "    <tr>\n",
       "      <th>hdfc_gain</th>\n",
       "      <td>0.372009</td>\n",
       "      <td>1.000000</td>\n",
       "    </tr>\n",
       "  </tbody>\n",
       "</table>\n",
       "</div>"
      ],
      "text/plain": [
       "               gain  hdfc_gain\n",
       "gain       1.000000   0.372009\n",
       "hdfc_gain  0.372009   1.000000"
      ]
     },
     "execution_count": 24,
     "metadata": {},
     "output_type": "execute_result"
    }
   ],
   "source": [
    "# HDFC bank\n",
    "sensex[['gain', 'hdfc_gain']].corr()"
   ]
  },
  {
   "cell_type": "code",
   "execution_count": 25,
   "metadata": {},
   "outputs": [
    {
     "data": {
      "text/html": [
       "<div>\n",
       "<style scoped>\n",
       "    .dataframe tbody tr th:only-of-type {\n",
       "        vertical-align: middle;\n",
       "    }\n",
       "\n",
       "    .dataframe tbody tr th {\n",
       "        vertical-align: top;\n",
       "    }\n",
       "\n",
       "    .dataframe thead th {\n",
       "        text-align: right;\n",
       "    }\n",
       "</style>\n",
       "<table border=\"1\" class=\"dataframe\">\n",
       "  <thead>\n",
       "    <tr style=\"text-align: right;\">\n",
       "      <th></th>\n",
       "      <th>gain</th>\n",
       "      <th>persis_gain</th>\n",
       "    </tr>\n",
       "  </thead>\n",
       "  <tbody>\n",
       "    <tr>\n",
       "      <th>gain</th>\n",
       "      <td>1.000000</td>\n",
       "      <td>0.369353</td>\n",
       "    </tr>\n",
       "    <tr>\n",
       "      <th>persis_gain</th>\n",
       "      <td>0.369353</td>\n",
       "      <td>1.000000</td>\n",
       "    </tr>\n",
       "  </tbody>\n",
       "</table>\n",
       "</div>"
      ],
      "text/plain": [
       "                 gain  persis_gain\n",
       "gain         1.000000     0.369353\n",
       "persis_gain  0.369353     1.000000"
      ]
     },
     "execution_count": 25,
     "metadata": {},
     "output_type": "execute_result"
    }
   ],
   "source": [
    "# Persistant\n",
    "sensex[['gain', 'persis_gain']].corr()"
   ]
  },
  {
   "cell_type": "code",
   "execution_count": 26,
   "metadata": {},
   "outputs": [
    {
     "data": {
      "text/html": [
       "<div>\n",
       "<style scoped>\n",
       "    .dataframe tbody tr th:only-of-type {\n",
       "        vertical-align: middle;\n",
       "    }\n",
       "\n",
       "    .dataframe tbody tr th {\n",
       "        vertical-align: top;\n",
       "    }\n",
       "\n",
       "    .dataframe thead th {\n",
       "        text-align: right;\n",
       "    }\n",
       "</style>\n",
       "<table border=\"1\" class=\"dataframe\">\n",
       "  <thead>\n",
       "    <tr style=\"text-align: right;\">\n",
       "      <th></th>\n",
       "      <th>gain</th>\n",
       "      <th>tata_gain</th>\n",
       "    </tr>\n",
       "  </thead>\n",
       "  <tbody>\n",
       "    <tr>\n",
       "      <th>gain</th>\n",
       "      <td>1.00000</td>\n",
       "      <td>0.38513</td>\n",
       "    </tr>\n",
       "    <tr>\n",
       "      <th>tata_gain</th>\n",
       "      <td>0.38513</td>\n",
       "      <td>1.00000</td>\n",
       "    </tr>\n",
       "  </tbody>\n",
       "</table>\n",
       "</div>"
      ],
      "text/plain": [
       "              gain  tata_gain\n",
       "gain       1.00000    0.38513\n",
       "tata_gain  0.38513    1.00000"
      ]
     },
     "execution_count": 26,
     "metadata": {},
     "output_type": "execute_result"
    }
   ],
   "source": [
    "# TATA Motors\n",
    "sensex[['gain', 'tata_gain']].corr()"
   ]
  },
  {
   "cell_type": "code",
   "execution_count": 27,
   "metadata": {},
   "outputs": [
    {
     "data": {
      "text/html": [
       "<div>\n",
       "<style scoped>\n",
       "    .dataframe tbody tr th:only-of-type {\n",
       "        vertical-align: middle;\n",
       "    }\n",
       "\n",
       "    .dataframe tbody tr th {\n",
       "        vertical-align: top;\n",
       "    }\n",
       "\n",
       "    .dataframe thead th {\n",
       "        text-align: right;\n",
       "    }\n",
       "</style>\n",
       "<table border=\"1\" class=\"dataframe\">\n",
       "  <thead>\n",
       "    <tr style=\"text-align: right;\">\n",
       "      <th></th>\n",
       "      <th>gain</th>\n",
       "      <th>steel_gain</th>\n",
       "    </tr>\n",
       "  </thead>\n",
       "  <tbody>\n",
       "    <tr>\n",
       "      <th>gain</th>\n",
       "      <td>1.000000</td>\n",
       "      <td>0.397804</td>\n",
       "    </tr>\n",
       "    <tr>\n",
       "      <th>steel_gain</th>\n",
       "      <td>0.397804</td>\n",
       "      <td>1.000000</td>\n",
       "    </tr>\n",
       "  </tbody>\n",
       "</table>\n",
       "</div>"
      ],
      "text/plain": [
       "                gain  steel_gain\n",
       "gain        1.000000    0.397804\n",
       "steel_gain  0.397804    1.000000"
      ]
     },
     "execution_count": 27,
     "metadata": {},
     "output_type": "execute_result"
    }
   ],
   "source": [
    "# JSW Steel\n",
    "sensex[['gain', 'steel_gain']].corr()"
   ]
  },
  {
   "attachments": {},
   "cell_type": "markdown",
   "metadata": {},
   "source": [
    "### Creating a Heatmap"
   ]
  },
  {
   "cell_type": "code",
   "execution_count": 28,
   "metadata": {},
   "outputs": [
    {
     "data": {
      "text/html": [
       "<div>\n",
       "<style scoped>\n",
       "    .dataframe tbody tr th:only-of-type {\n",
       "        vertical-align: middle;\n",
       "    }\n",
       "\n",
       "    .dataframe tbody tr th {\n",
       "        vertical-align: top;\n",
       "    }\n",
       "\n",
       "    .dataframe thead th {\n",
       "        text-align: right;\n",
       "    }\n",
       "</style>\n",
       "<table border=\"1\" class=\"dataframe\">\n",
       "  <thead>\n",
       "    <tr style=\"text-align: right;\">\n",
       "      <th></th>\n",
       "      <th>gain</th>\n",
       "      <th>max_gain</th>\n",
       "      <th>hdfc_gain</th>\n",
       "      <th>persis_gain</th>\n",
       "      <th>tata_gain</th>\n",
       "      <th>steel_gain</th>\n",
       "    </tr>\n",
       "  </thead>\n",
       "  <tbody>\n",
       "    <tr>\n",
       "      <th>gain</th>\n",
       "      <td>1.000000</td>\n",
       "      <td>0.069517</td>\n",
       "      <td>0.372009</td>\n",
       "      <td>0.369353</td>\n",
       "      <td>0.385130</td>\n",
       "      <td>0.397804</td>\n",
       "    </tr>\n",
       "    <tr>\n",
       "      <th>max_gain</th>\n",
       "      <td>0.069517</td>\n",
       "      <td>1.000000</td>\n",
       "      <td>0.089243</td>\n",
       "      <td>0.070784</td>\n",
       "      <td>0.041675</td>\n",
       "      <td>0.090473</td>\n",
       "    </tr>\n",
       "    <tr>\n",
       "      <th>hdfc_gain</th>\n",
       "      <td>0.372009</td>\n",
       "      <td>0.089243</td>\n",
       "      <td>1.000000</td>\n",
       "      <td>0.136841</td>\n",
       "      <td>0.241666</td>\n",
       "      <td>0.108868</td>\n",
       "    </tr>\n",
       "    <tr>\n",
       "      <th>persis_gain</th>\n",
       "      <td>0.369353</td>\n",
       "      <td>0.070784</td>\n",
       "      <td>0.136841</td>\n",
       "      <td>1.000000</td>\n",
       "      <td>0.213970</td>\n",
       "      <td>0.319442</td>\n",
       "    </tr>\n",
       "    <tr>\n",
       "      <th>tata_gain</th>\n",
       "      <td>0.385130</td>\n",
       "      <td>0.041675</td>\n",
       "      <td>0.241666</td>\n",
       "      <td>0.213970</td>\n",
       "      <td>1.000000</td>\n",
       "      <td>0.343757</td>\n",
       "    </tr>\n",
       "    <tr>\n",
       "      <th>steel_gain</th>\n",
       "      <td>0.397804</td>\n",
       "      <td>0.090473</td>\n",
       "      <td>0.108868</td>\n",
       "      <td>0.319442</td>\n",
       "      <td>0.343757</td>\n",
       "      <td>1.000000</td>\n",
       "    </tr>\n",
       "  </tbody>\n",
       "</table>\n",
       "</div>"
      ],
      "text/plain": [
       "                 gain  max_gain  hdfc_gain  persis_gain  tata_gain  steel_gain\n",
       "gain         1.000000  0.069517   0.372009     0.369353   0.385130    0.397804\n",
       "max_gain     0.069517  1.000000   0.089243     0.070784   0.041675    0.090473\n",
       "hdfc_gain    0.372009  0.089243   1.000000     0.136841   0.241666    0.108868\n",
       "persis_gain  0.369353  0.070784   0.136841     1.000000   0.213970    0.319442\n",
       "tata_gain    0.385130  0.041675   0.241666     0.213970   1.000000    0.343757\n",
       "steel_gain   0.397804  0.090473   0.108868     0.319442   0.343757    1.000000"
      ]
     },
     "execution_count": 28,
     "metadata": {},
     "output_type": "execute_result"
    }
   ],
   "source": [
    "sector_corr = sensex[['gain', \n",
    "                      'max_gain', \n",
    "                      'hdfc_gain',\n",
    "                      'persis_gain',\n",
    "                      'tata_gain',\n",
    "                      'steel_gain']].corr()\n",
    "sector_corr"
   ]
  },
  {
   "cell_type": "code",
   "execution_count": 29,
   "metadata": {},
   "outputs": [
    {
     "data": {
      "image/png": "[encoded data removed]",
      "text/plain": [
       "<Figure size 900x600 with 2 Axes>"
      ]
     },
     "metadata": {},
     "output_type": "display_data"
    }
   ],
   "source": [
    "plt.figure(figsize=(9, 6))\n",
    "sn.heatmap(sector_corr,\n",
    "           annot = True,\n",
    "           fmt = \"0.2f\",\n",
    "           cmap = sn.diverging_palette(120, 240),\n",
    "           vmin = -1.0, \n",
    "           vmax = 1.0);"
   ]
  }
 ],
 "metadata": {
  "kernelspec": {
   "display_name": "Python 3",
   "language": "python",
   "name": "python3"
  },
  "language_info": {
   "codemirror_mode": {
    "name": "ipython",
    "version": 3
   },
   "file_extension": ".py",
   "mimetype": "text/x-python",
   "name": "python",
   "nbconvert_exporter": "python",
   "pygments_lexer": "ipython3",
   "version": "3.11.4"
  },
  "orig_nbformat": 4
 },
 "nbformat": 4,
 "nbformat_minor": 2
}
