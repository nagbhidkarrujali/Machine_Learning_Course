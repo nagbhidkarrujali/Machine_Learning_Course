{
 "cells": [
  {
   "attachments": {},
   "cell_type": "markdown",
   "metadata": {},
   "source": [
    "## Ex1: Participant Exercise\n",
    "\n",
    "1. Define two variables called age and income assign values 30 and 50000.0 respectively\n"
   ]
  },
  {
   "cell_type": "code",
   "execution_count": 5,
   "metadata": {},
   "outputs": [],
   "source": [
    "age = 30\n",
    "income = 50000.0"
   ]
  },
  {
   "attachments": {},
   "cell_type": "markdown",
   "metadata": {},
   "source": [
    "2. Write a print statement using f-string to print the output as following:\n",
    "    \n",
    "    \"Age is: 30 Years and Income is: INR 50000.0\"\n",
    "\n"
   ]
  },
  {
   "cell_type": "code",
   "execution_count": 6,
   "metadata": {},
   "outputs": [
    {
     "name": "stdout",
     "output_type": "stream",
     "text": [
      "Age is : 30 Years and Income is: INR 50000.0\n"
     ]
    }
   ],
   "source": [
    "print(f\"Age is : {age} Years and Income is: INR {income}\")"
   ]
  },
  {
   "attachments": {},
   "cell_type": "markdown",
   "metadata": {},
   "source": [
    "3. Write an if-else condition\n",
    "    - if age is more than 25 and less than 40 years and income is more than 30000.0 then set a variable named \"approved\" to True or set to False."
   ]
  },
  {
   "cell_type": "code",
   "execution_count": 7,
   "metadata": {},
   "outputs": [
    {
     "name": "stdout",
     "output_type": "stream",
     "text": [
      "True\n"
     ]
    }
   ],
   "source": [
    "if (age > 25 and age < 40 and income > 30000.0 ):\n",
    "    approved = True\n",
    "else:\n",
    "    approved = False\n",
    "\n",
    "print(approved)"
   ]
  },
  {
   "attachments": {},
   "cell_type": "markdown",
   "metadata": {},
   "source": [
    "## Ex2: Participant Exercise\n",
    "1. Write a function \n",
    "    - named getAgeGroup\n",
    "    - which takes a paramter age\n",
    "    - the default value of the age is 25\n",
    "    - it returns the age group as either \"young\" or \"adult\" or 'mid-age\" or \"old\" based on age\n",
    "        - if age < 20, then return young\n",
    "        - if age >= 20, but < 35 then adult\n",
    "        - if age >= 35, but < 55 then mid-age\n",
    "        - if age > 55 then old\n",
    " "
   ]
  },
  {
   "cell_type": "code",
   "execution_count": 9,
   "metadata": {},
   "outputs": [
    {
     "name": "stdout",
     "output_type": "stream",
     "text": [
      "Adult\n"
     ]
    }
   ],
   "source": [
    "def getAgeGroup(Age = 25):\n",
    "    if (Age < 20):\n",
    "        print(\"Young\")\n",
    "    elif (Age >= 20 and Age < 35):\n",
    "        print(\"Adult\")\n",
    "    elif (Age >= 35 and Age < 55):\n",
    "        print(\"Mid-Age\")\n",
    "    else:\n",
    "        print(\"old\")\n",
    "        \n",
    "getAgeGroup()"
   ]
  },
  {
   "attachments": {},
   "cell_type": "markdown",
   "metadata": {},
   "source": [
    "2. Invoke the function with different ages and test    "
   ]
  },
  {
   "cell_type": "code",
   "execution_count": 11,
   "metadata": {},
   "outputs": [
    {
     "name": "stdout",
     "output_type": "stream",
     "text": [
      "Young\n"
     ]
    }
   ],
   "source": [
    "getAgeGroup(5)"
   ]
  },
  {
   "cell_type": "code",
   "execution_count": 12,
   "metadata": {},
   "outputs": [
    {
     "name": "stdout",
     "output_type": "stream",
     "text": [
      "Adult\n"
     ]
    }
   ],
   "source": [
    "getAgeGroup(30)"
   ]
  },
  {
   "cell_type": "code",
   "execution_count": 13,
   "metadata": {},
   "outputs": [
    {
     "name": "stdout",
     "output_type": "stream",
     "text": [
      "Mid-Age\n"
     ]
    }
   ],
   "source": [
    "getAgeGroup(38)"
   ]
  },
  {
   "cell_type": "code",
   "execution_count": 14,
   "metadata": {},
   "outputs": [
    {
     "name": "stdout",
     "output_type": "stream",
     "text": [
      "old\n"
     ]
    }
   ],
   "source": [
    "getAgeGroup(55)"
   ]
  },
  {
   "attachments": {},
   "cell_type": "markdown",
   "metadata": {},
   "source": [
    "## Ex3: Participant Exercise\n",
    "1. Creata a list with the following 10 student names \n",
    "\n",
    "    - Krishnaa J., Jyoti Adhya, C. Haradas, Korravai Parikh, Saurandhri Vaknis, Sambridhi Holkar, Sita Padhy, Ambika Sanyal, Nehal Vadekar, Sarama Upalekar\n",
    "\n",
    "2. Create two lists named \"math_scores\" and \"science_scores\" \n",
    "3. Populate the above two variables with randomly generated numbers between 20 and 90\n",
    "4. Both the scores should have exactly 10 items only. Assume that the names and scores are mapped in the same sequence.\n",
    "5. Write a function which takes math and science score of each individual returns the total score and grade\n",
    "    - Grade is Pass if both the scores are greater than equal to 50\n",
    "    - Grade is Fail if any one of the scores is less than 50\n",
    "    - The function should return a tuple with total score and grade e.g. (110, \"Pass\")\n",
    "    \n",
    "5. Iterate through the student names and invoke the above function\n",
    "6. Store all information in a dictionary with names as keys and results (tuple with total score and grade) as values.\n",
    "7. Print the dictionary"
   ]
  },
  {
   "cell_type": "code",
   "execution_count": 15,
   "metadata": {},
   "outputs": [
    {
     "name": "stdout",
     "output_type": "stream",
     "text": [
      "Maths :  [66, 69, 66, 67, 53, 59, 68, 41, 66, 23]\n",
      "Science :  [56, 25, 41, 25, 43, 40, 80, 81, 54, 26]\n"
     ]
    },
    {
     "data": {
      "text/plain": [
       "{'Krishnaa J.': (122, 'Pass'),\n",
       " 'Jyoti Adhya': (94, 'Fail'),\n",
       " 'C. Haradas': (107, 'Fail'),\n",
       " 'Korravai Parikh': (92, 'Fail'),\n",
       " 'Saurandhri Vaknis': (96, 'Fail'),\n",
       " 'Sambridhi Holkar': (99, 'Fail'),\n",
       " 'Sita Padhy': (148, 'Pass'),\n",
       " 'Ambika Sanyal': (122, 'Fail'),\n",
       " 'Nehal Vadekar': (120, 'Pass'),\n",
       " ' Sarama Upalekar': (49, 'Fail')}"
      ]
     },
     "execution_count": 15,
     "metadata": {},
     "output_type": "execute_result"
    }
   ],
   "source": [
    "a=0\n",
    "b=0\n",
    "from random import randint\n",
    "Student = ['Krishnaa J.','Jyoti Adhya', 'C. Haradas', 'Korravai Parikh', 'Saurandhri Vaknis', \n",
    "           'Sambridhi Holkar', 'Sita Padhy', 'Ambika Sanyal', 'Nehal Vadekar',' Sarama Upalekar']\n",
    "math_scores =[]\n",
    "while a<10:\n",
    "    math_scores.append(randint(20,90))\n",
    "    a = a+1\n",
    "print(\"Maths : \",math_scores)\n",
    "\n",
    "science_scores =[]\n",
    "while b<10:\n",
    "    science_scores.append(randint(20,90))\n",
    "    b = b+1\n",
    "print(\"Science : \",science_scores)\n",
    "\n",
    "Score = []\n",
    "\n",
    "def getScoreGrade(math_scores,science_scores):\n",
    "    for i in range(0,10):\n",
    "        total = math_scores[i] + science_scores[i]\n",
    "        if (math_scores[i] >= 50 and science_scores[i] >= 50):\n",
    "            tup = [total,\"Pass\"]\n",
    "            Score.append(tuple(tup))\n",
    "            # print(tup)\n",
    "        elif (math_scores[i] < 50 or science_scores[i] < 50):\n",
    "            tup = [total,\"Fail\"]\n",
    "            Score.append(tuple(tup))\n",
    "            # print(tup)\n",
    "        else:\n",
    "            return None\n",
    "\n",
    "\n",
    "getScoreGrade(math_scores,science_scores)\n",
    "# Score\n",
    "Data = dict( zip( Student, Score ) )\n",
    "Data"
   ]
  },
  {
   "attachments": {},
   "cell_type": "markdown",
   "metadata": {},
   "source": [
    "## Ex4: Participant Exercise\n",
    "\n",
    "1. The variable **daily_prices** contains information about a stock open and close prices for 10 days\n",
    "2. Calculate the daily gains and create a dictionary which stores the date and daily gains as shown below\n",
    "\n",
    "```\n",
    "[{'Date': '17-05-2016', 'Gain': -0.32},\n",
    " {'Date': '16-05-2016', 'Gain': 0.33},\n",
    " {'Date': '13-05-2016', 'Gain': -0.02},\n",
    " {'Date': '12-05-2016', 'Gain': 0.1},\n",
    " {'Date': '11-05-2016', 'Gain': -0.33},\n",
    " {'Date': '10-05-2016', 'Gain': 1.05},\n",
    " {'Date': '09-05-2016', 'Gain': 0.77},\n",
    " {'Date': '06-05-2016', 'Gain': -0.89},\n",
    " {'Date': '05-05-2016', 'Gain': 0.12},\n",
    " {'Date': '04-05-2016', 'Gain': -0.12}]\n",
    "```\n",
    "\n",
    "3. The gain should be calculated as (Close - Open) *100 / Open.\n",
    "4. The gain value should be rounded to 2 decimal places\n",
    "5. Accomplish the above task using both the approaches: List comprehension and map() function"
   ]
  },
  {
   "cell_type": "code",
   "execution_count": 16,
   "metadata": {},
   "outputs": [],
   "source": [
    "daily_prices = [ {'Date': '17-05-2016', 'Open': 1218.0, 'Close': 1214.05005},\n",
    "                 {'Date': '16-05-2016', 'Open': 1210.0, 'Close': 1213.94995},\n",
    "                 {'Date': '13-05-2016', 'Open': 1207.0, 'Close': 1206.69995},\n",
    "                 {'Date': '12-05-2016', 'Open': 1208.94995, 'Close': 1210.19995},\n",
    "                 {'Date': '11-05-2016', 'Open': 1205.0, 'Close': 1201.05005},\n",
    "                 {'Date': '10-05-2016', 'Open': 1200.0, 'Close': 1212.55005},\n",
    "                 {'Date': '09-05-2016', 'Open': 1190.0, 'Close': 1199.1500199999998},\n",
    "                 {'Date': '06-05-2016', 'Open': 1192.0, 'Close': 1181.44995},\n",
    "                 {'Date': '05-05-2016', 'Open': 1191.0, 'Close': 1192.44995},\n",
    "                 {'Date': '04-05-2016', 'Open': 1191.0, 'Close': 1189.55005} ]\n",
    "\n",
    "def getgain(i):\n",
    "    gain_dict ={}\n",
    "    temp = round((i['Close']-i['Open'])*100/i['Open'],2)\n",
    "    gain_dict['Date']=i['Date']\n",
    "    gain_dict['Gain']= temp\n",
    "    return(gain_dict)"
   ]
  },
  {
   "cell_type": "code",
   "execution_count": 17,
   "metadata": {},
   "outputs": [
    {
     "data": {
      "text/plain": [
       "[{'Date': '17-05-2016', 'Gain': -0.32},\n",
       " {'Date': '16-05-2016', 'Gain': 0.33},\n",
       " {'Date': '13-05-2016', 'Gain': -0.02},\n",
       " {'Date': '12-05-2016', 'Gain': 0.1},\n",
       " {'Date': '11-05-2016', 'Gain': -0.33},\n",
       " {'Date': '10-05-2016', 'Gain': 1.05},\n",
       " {'Date': '09-05-2016', 'Gain': 0.77},\n",
       " {'Date': '06-05-2016', 'Gain': -0.89},\n",
       " {'Date': '05-05-2016', 'Gain': 0.12},\n",
       " {'Date': '04-05-2016', 'Gain': -0.12}]"
      ]
     },
     "execution_count": 17,
     "metadata": {},
     "output_type": "execute_result"
    }
   ],
   "source": [
    "gain_list= [getgain(x) for x in daily_prices]\n",
    "gain_list"
   ]
  },
  {
   "cell_type": "code",
   "execution_count": 20,
   "metadata": {},
   "outputs": [
    {
     "data": {
      "text/plain": [
       "[{'Date': '17-05-2016', 'Gain': -0.32},\n",
       " {'Date': '16-05-2016', 'Gain': 0.33},\n",
       " {'Date': '13-05-2016', 'Gain': -0.02},\n",
       " {'Date': '12-05-2016', 'Gain': 0.1},\n",
       " {'Date': '11-05-2016', 'Gain': -0.33},\n",
       " {'Date': '10-05-2016', 'Gain': 1.05},\n",
       " {'Date': '09-05-2016', 'Gain': 0.77},\n",
       " {'Date': '06-05-2016', 'Gain': -0.89},\n",
       " {'Date': '05-05-2016', 'Gain': 0.12},\n",
       " {'Date': '04-05-2016', 'Gain': -0.12}]"
      ]
     },
     "execution_count": 20,
     "metadata": {},
     "output_type": "execute_result"
    }
   ],
   "source": [
    "gain_list = map(getgain,daily_prices)\n",
    "list(gain_list) "
   ]
  }
 ],
 "metadata": {
  "kernelspec": {
   "display_name": "Python 3",
   "language": "python",
   "name": "python3"
  },
  "language_info": {
   "codemirror_mode": {
    "name": "ipython",
    "version": 3
   },
   "file_extension": ".py",
   "mimetype": "text/x-python",
   "name": "python",
   "nbconvert_exporter": "python",
   "pygments_lexer": "ipython3",
   "version": "3.10.7"
  },
  "orig_nbformat": 4
 },
 "nbformat": 4,
 "nbformat_minor": 2
}
