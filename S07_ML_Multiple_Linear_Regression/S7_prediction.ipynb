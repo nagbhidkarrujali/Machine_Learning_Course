{
 "cells": [
  {
   "attachments": {},
   "cell_type": "markdown",
   "id": "b4d11b7f",
   "metadata": {},
   "source": [
    "# Loading the Model"
   ]
  },
  {
   "cell_type": "code",
   "execution_count": 1,
   "id": "c1db5676",
   "metadata": {},
   "outputs": [],
   "source": [
    "class Cars_Predicting_Model():\n",
    "    \n",
    "    def __init__(self, model, features, rmse):\n",
    "        self.model = model\n",
    "        self.features = features\n",
    "        self.rmse = rmse"
   ]
  },
  {
   "attachments": {},
   "cell_type": "markdown",
   "id": "272634b1",
   "metadata": {},
   "source": [
    "## Sample Input"
   ]
  },
  {
   "cell_type": "code",
   "execution_count": 2,
   "id": "4c5d6645",
   "metadata": {},
   "outputs": [],
   "source": [
    "data = {'KM_Driven' : 55, \n",
    "        'Fuel_Type_Petrol' : 1,\n",
    "        'Transmission_Manual': 1, \n",
    "        'Owner_Type_First': 1,\n",
    "        'Age': 5,\n",
    "        'Seats' : 5,\n",
    "        'Model_swift': 1,\n",
    "        'Mileage' : 16, \n",
    "        'Power': 90,\n",
    "        'Location_Bangalore': 1}"
   ]
  },
  {
   "attachments": {},
   "cell_type": "markdown",
   "id": "550ca230",
   "metadata": {},
   "source": [
    "## Making Prediction"
   ]
  },
  {
   "cell_type": "code",
   "execution_count": 3,
   "id": "4841d1c6",
   "metadata": {},
   "outputs": [],
   "source": [
    "from joblib import load"
   ]
  },
  {
   "cell_type": "code",
   "execution_count": 4,
   "id": "89a77624",
   "metadata": {},
   "outputs": [],
   "source": [
    "model_object = load('cars_pred.pkl')"
   ]
  },
  {
   "cell_type": "code",
   "execution_count": 5,
   "id": "4d970689",
   "metadata": {},
   "outputs": [
    {
     "data": {
      "text/html": [
       "<style>#sk-container-id-1 {color: black;background-color: white;}#sk-container-id-1 pre{padding: 0;}#sk-container-id-1 div.sk-toggleable {background-color: white;}#sk-container-id-1 label.sk-toggleable__label {cursor: pointer;display: block;width: 100%;margin-bottom: 0;padding: 0.3em;box-sizing: border-box;text-align: center;}#sk-container-id-1 label.sk-toggleable__label-arrow:before {content: \"▸\";float: left;margin-right: 0.25em;color: #696969;}#sk-container-id-1 label.sk-toggleable__label-arrow:hover:before {color: black;}#sk-container-id-1 div.sk-estimator:hover label.sk-toggleable__label-arrow:before {color: black;}#sk-container-id-1 div.sk-toggleable__content {max-height: 0;max-width: 0;overflow: hidden;text-align: left;background-color: #f0f8ff;}#sk-container-id-1 div.sk-toggleable__content pre {margin: 0.2em;color: black;border-radius: 0.25em;background-color: #f0f8ff;}#sk-container-id-1 input.sk-toggleable__control:checked~div.sk-toggleable__content {max-height: 200px;max-width: 100%;overflow: auto;}#sk-container-id-1 input.sk-toggleable__control:checked~label.sk-toggleable__label-arrow:before {content: \"▾\";}#sk-container-id-1 div.sk-estimator input.sk-toggleable__control:checked~label.sk-toggleable__label {background-color: #d4ebff;}#sk-container-id-1 div.sk-label input.sk-toggleable__control:checked~label.sk-toggleable__label {background-color: #d4ebff;}#sk-container-id-1 input.sk-hidden--visually {border: 0;clip: rect(1px 1px 1px 1px);clip: rect(1px, 1px, 1px, 1px);height: 1px;margin: -1px;overflow: hidden;padding: 0;position: absolute;width: 1px;}#sk-container-id-1 div.sk-estimator {font-family: monospace;background-color: #f0f8ff;border: 1px dotted black;border-radius: 0.25em;box-sizing: border-box;margin-bottom: 0.5em;}#sk-container-id-1 div.sk-estimator:hover {background-color: #d4ebff;}#sk-container-id-1 div.sk-parallel-item::after {content: \"\";width: 100%;border-bottom: 1px solid gray;flex-grow: 1;}#sk-container-id-1 div.sk-label:hover label.sk-toggleable__label {background-color: #d4ebff;}#sk-container-id-1 div.sk-serial::before {content: \"\";position: absolute;border-left: 1px solid gray;box-sizing: border-box;top: 0;bottom: 0;left: 50%;z-index: 0;}#sk-container-id-1 div.sk-serial {display: flex;flex-direction: column;align-items: center;background-color: white;padding-right: 0.2em;padding-left: 0.2em;position: relative;}#sk-container-id-1 div.sk-item {position: relative;z-index: 1;}#sk-container-id-1 div.sk-parallel {display: flex;align-items: stretch;justify-content: center;background-color: white;position: relative;}#sk-container-id-1 div.sk-item::before, #sk-container-id-1 div.sk-parallel-item::before {content: \"\";position: absolute;border-left: 1px solid gray;box-sizing: border-box;top: 0;bottom: 0;left: 50%;z-index: -1;}#sk-container-id-1 div.sk-parallel-item {display: flex;flex-direction: column;z-index: 1;position: relative;background-color: white;}#sk-container-id-1 div.sk-parallel-item:first-child::after {align-self: flex-end;width: 50%;}#sk-container-id-1 div.sk-parallel-item:last-child::after {align-self: flex-start;width: 50%;}#sk-container-id-1 div.sk-parallel-item:only-child::after {width: 0;}#sk-container-id-1 div.sk-dashed-wrapped {border: 1px dashed gray;margin: 0 0.4em 0.5em 0.4em;box-sizing: border-box;padding-bottom: 0.4em;background-color: white;}#sk-container-id-1 div.sk-label label {font-family: monospace;font-weight: bold;display: inline-block;line-height: 1.2em;}#sk-container-id-1 div.sk-label-container {text-align: center;}#sk-container-id-1 div.sk-container {/* jupyter's `normalize.less` sets `[hidden] { display: none; }` but bootstrap.min.css set `[hidden] { display: none !important; }` so we also need the `!important` here to be able to override the default hidden behavior on the sphinx rendered scikit-learn.org. See: https://github.com/scikit-learn/scikit-learn/issues/21755 */display: inline-block !important;position: relative;}#sk-container-id-1 div.sk-text-repr-fallback {display: none;}</style><div id=\"sk-container-id-1\" class=\"sk-top-container\"><div class=\"sk-text-repr-fallback\"><pre>LinearRegression()</pre><b>In a Jupyter environment, please rerun this cell to show the HTML representation or trust the notebook. <br />On GitHub, the HTML representation is unable to render, please try loading this page with nbviewer.org.</b></div><div class=\"sk-container\" hidden><div class=\"sk-item\"><div class=\"sk-estimator sk-toggleable\"><input class=\"sk-toggleable__control sk-hidden--visually\" id=\"sk-estimator-id-1\" type=\"checkbox\" checked><label for=\"sk-estimator-id-1\" class=\"sk-toggleable__label sk-toggleable__label-arrow\">LinearRegression</label><div class=\"sk-toggleable__content\"><pre>LinearRegression()</pre></div></div></div></div></div>"
      ],
      "text/plain": [
       "LinearRegression()"
      ]
     },
     "execution_count": 5,
     "metadata": {},
     "output_type": "execute_result"
    }
   ],
   "source": [
    "model_object.model"
   ]
  },
  {
   "cell_type": "code",
   "execution_count": 6,
   "id": "4ee89eca",
   "metadata": {},
   "outputs": [
    {
     "data": {
      "text/plain": [
       "0.6049993203235854"
      ]
     },
     "execution_count": 6,
     "metadata": {},
     "output_type": "execute_result"
    }
   ],
   "source": [
    "model_object.rmse"
   ]
  },
  {
   "cell_type": "code",
   "execution_count": 7,
   "id": "9a9e3d2d",
   "metadata": {},
   "outputs": [
    {
     "data": {
      "text/plain": [
       "['Seats',\n",
       " 'Age',\n",
       " 'Mileage',\n",
       " 'Power',\n",
       " 'KM_Driven',\n",
       " 'Location_Ahmedabad',\n",
       " 'Location_Bangalore',\n",
       " 'Location_Chennai',\n",
       " 'Location_Coimbatore',\n",
       " 'Location_Delhi',\n",
       " 'Location_Hyderabad',\n",
       " 'Location_Jaipur',\n",
       " 'Location_Kochi',\n",
       " 'Location_Kolkata',\n",
       " 'Location_Mumbai',\n",
       " 'Location_Pune',\n",
       " 'Fuel_Type_Diesel',\n",
       " 'Fuel_Type_Petrol',\n",
       " 'Transmission_Automatic',\n",
       " 'Transmission_Manual',\n",
       " 'Owner_Type_First',\n",
       " 'Owner_Type_Second',\n",
       " 'Owner_Type_Third',\n",
       " 'Model_a-star',\n",
       " 'Model_alto',\n",
       " 'Model_baleno',\n",
       " 'Model_celerio',\n",
       " 'Model_ciaz',\n",
       " 'Model_dzire',\n",
       " 'Model_eeco',\n",
       " 'Model_ertiga',\n",
       " 'Model_omni',\n",
       " 'Model_ritz',\n",
       " 'Model_swift',\n",
       " 'Model_vitara',\n",
       " 'Model_wagon',\n",
       " 'Model_zen']"
      ]
     },
     "execution_count": 7,
     "metadata": {},
     "output_type": "execute_result"
    }
   ],
   "source": [
    "model_object.features"
   ]
  },
  {
   "cell_type": "code",
   "execution_count": 8,
   "id": "bb2e1058",
   "metadata": {},
   "outputs": [],
   "source": [
    "car = {}"
   ]
  },
  {
   "cell_type": "code",
   "execution_count": 9,
   "id": "99a51397",
   "metadata": {},
   "outputs": [],
   "source": [
    "for feature in model_object.features:\n",
    "    car[feature] = data.get(feature,0.0)"
   ]
  },
  {
   "cell_type": "code",
   "execution_count": 10,
   "id": "4c196935",
   "metadata": {},
   "outputs": [
    {
     "data": {
      "text/plain": [
       "{'Seats': 5,\n",
       " 'Age': 5,\n",
       " 'Mileage': 16,\n",
       " 'Power': 90,\n",
       " 'KM_Driven': 55,\n",
       " 'Location_Ahmedabad': 0.0,\n",
       " 'Location_Bangalore': 1,\n",
       " 'Location_Chennai': 0.0,\n",
       " 'Location_Coimbatore': 0.0,\n",
       " 'Location_Delhi': 0.0,\n",
       " 'Location_Hyderabad': 0.0,\n",
       " 'Location_Jaipur': 0.0,\n",
       " 'Location_Kochi': 0.0,\n",
       " 'Location_Kolkata': 0.0,\n",
       " 'Location_Mumbai': 0.0,\n",
       " 'Location_Pune': 0.0,\n",
       " 'Fuel_Type_Diesel': 0.0,\n",
       " 'Fuel_Type_Petrol': 1,\n",
       " 'Transmission_Automatic': 0.0,\n",
       " 'Transmission_Manual': 1,\n",
       " 'Owner_Type_First': 1,\n",
       " 'Owner_Type_Second': 0.0,\n",
       " 'Owner_Type_Third': 0.0,\n",
       " 'Model_a-star': 0.0,\n",
       " 'Model_alto': 0.0,\n",
       " 'Model_baleno': 0.0,\n",
       " 'Model_celerio': 0.0,\n",
       " 'Model_ciaz': 0.0,\n",
       " 'Model_dzire': 0.0,\n",
       " 'Model_eeco': 0.0,\n",
       " 'Model_ertiga': 0.0,\n",
       " 'Model_omni': 0.0,\n",
       " 'Model_ritz': 0.0,\n",
       " 'Model_swift': 1,\n",
       " 'Model_vitara': 0.0,\n",
       " 'Model_wagon': 0.0,\n",
       " 'Model_zen': 0.0}"
      ]
     },
     "execution_count": 10,
     "metadata": {},
     "output_type": "execute_result"
    }
   ],
   "source": [
    "car"
   ]
  },
  {
   "cell_type": "code",
   "execution_count": 11,
   "id": "dfa5d244",
   "metadata": {},
   "outputs": [],
   "source": [
    "import pandas as pd"
   ]
  },
  {
   "cell_type": "code",
   "execution_count": 12,
   "id": "e88c8b60",
   "metadata": {},
   "outputs": [],
   "source": [
    "car_df = pd.DataFrame(car, index= [0])"
   ]
  },
  {
   "cell_type": "code",
   "execution_count": 13,
   "id": "79793791",
   "metadata": {},
   "outputs": [
    {
     "data": {
      "text/html": [
       "<div>\n",
       "<style scoped>\n",
       "    .dataframe tbody tr th:only-of-type {\n",
       "        vertical-align: middle;\n",
       "    }\n",
       "\n",
       "    .dataframe tbody tr th {\n",
       "        vertical-align: top;\n",
       "    }\n",
       "\n",
       "    .dataframe thead th {\n",
       "        text-align: right;\n",
       "    }\n",
       "</style>\n",
       "<table border=\"1\" class=\"dataframe\">\n",
       "  <thead>\n",
       "    <tr style=\"text-align: right;\">\n",
       "      <th></th>\n",
       "      <th>Seats</th>\n",
       "      <th>Age</th>\n",
       "      <th>Mileage</th>\n",
       "      <th>Power</th>\n",
       "      <th>KM_Driven</th>\n",
       "      <th>Location_Ahmedabad</th>\n",
       "      <th>Location_Bangalore</th>\n",
       "      <th>Location_Chennai</th>\n",
       "      <th>Location_Coimbatore</th>\n",
       "      <th>Location_Delhi</th>\n",
       "      <th>...</th>\n",
       "      <th>Model_ciaz</th>\n",
       "      <th>Model_dzire</th>\n",
       "      <th>Model_eeco</th>\n",
       "      <th>Model_ertiga</th>\n",
       "      <th>Model_omni</th>\n",
       "      <th>Model_ritz</th>\n",
       "      <th>Model_swift</th>\n",
       "      <th>Model_vitara</th>\n",
       "      <th>Model_wagon</th>\n",
       "      <th>Model_zen</th>\n",
       "    </tr>\n",
       "  </thead>\n",
       "  <tbody>\n",
       "    <tr>\n",
       "      <th>0</th>\n",
       "      <td>5</td>\n",
       "      <td>5</td>\n",
       "      <td>16</td>\n",
       "      <td>90</td>\n",
       "      <td>55</td>\n",
       "      <td>0.0</td>\n",
       "      <td>1</td>\n",
       "      <td>0.0</td>\n",
       "      <td>0.0</td>\n",
       "      <td>0.0</td>\n",
       "      <td>...</td>\n",
       "      <td>0.0</td>\n",
       "      <td>0.0</td>\n",
       "      <td>0.0</td>\n",
       "      <td>0.0</td>\n",
       "      <td>0.0</td>\n",
       "      <td>0.0</td>\n",
       "      <td>1</td>\n",
       "      <td>0.0</td>\n",
       "      <td>0.0</td>\n",
       "      <td>0.0</td>\n",
       "    </tr>\n",
       "  </tbody>\n",
       "</table>\n",
       "<p>1 rows × 37 columns</p>\n",
       "</div>"
      ],
      "text/plain": [
       "   Seats  Age  Mileage  Power  KM_Driven  Location_Ahmedabad  \\\n",
       "0      5    5       16     90         55                 0.0   \n",
       "\n",
       "   Location_Bangalore  Location_Chennai  Location_Coimbatore  Location_Delhi  \\\n",
       "0                   1               0.0                  0.0             0.0   \n",
       "\n",
       "   ...  Model_ciaz  Model_dzire  Model_eeco  Model_ertiga  Model_omni  \\\n",
       "0  ...         0.0          0.0         0.0           0.0         0.0   \n",
       "\n",
       "   Model_ritz  Model_swift  Model_vitara  Model_wagon  Model_zen  \n",
       "0         0.0            1           0.0          0.0        0.0  \n",
       "\n",
       "[1 rows x 37 columns]"
      ]
     },
     "execution_count": 13,
     "metadata": {},
     "output_type": "execute_result"
    }
   ],
   "source": [
    "car_df"
   ]
  },
  {
   "cell_type": "code",
   "execution_count": 14,
   "id": "8acc0b83",
   "metadata": {},
   "outputs": [],
   "source": [
    "price = model_object.model.predict(car_df)[0]"
   ]
  },
  {
   "cell_type": "code",
   "execution_count": 15,
   "id": "fcf926b3",
   "metadata": {},
   "outputs": [
    {
     "data": {
      "text/plain": [
       "5.124399268852194"
      ]
     },
     "execution_count": 15,
     "metadata": {},
     "output_type": "execute_result"
    }
   ],
   "source": [
    "price"
   ]
  },
  {
   "cell_type": "code",
   "execution_count": 16,
   "id": "75d1d2c3",
   "metadata": {},
   "outputs": [
    {
     "data": {
      "text/plain": [
       "(4.5193999485286085, 5.72939858917578)"
      ]
     },
     "execution_count": 16,
     "metadata": {},
     "output_type": "execute_result"
    }
   ],
   "source": [
    "price - model_object.rmse, price + model_object.rmse"
   ]
  }
 ],
 "metadata": {
  "kernelspec": {
   "display_name": "Python 3 (ipykernel)",
   "language": "python",
   "name": "python3"
  },
  "language_info": {
   "codemirror_mode": {
    "name": "ipython",
    "version": 3
   },
   "file_extension": ".py",
   "mimetype": "text/x-python",
   "name": "python",
   "nbconvert_exporter": "python",
   "pygments_lexer": "ipython3",
   "version": "3.11.4"
  }
 },
 "nbformat": 4,
 "nbformat_minor": 5
}
