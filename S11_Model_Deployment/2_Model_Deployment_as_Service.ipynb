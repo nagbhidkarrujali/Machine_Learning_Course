{
 "cells": [
  {
   "cell_type": "markdown",
   "id": "59c9fe31",
   "metadata": {},
   "source": [
    "# Deploy the model as a Service"
   ]
  },
  {
   "cell_type": "code",
   "execution_count": 1,
   "id": "2a14ba4e",
   "metadata": {},
   "outputs": [],
   "source": [
    "import pandas as pd\n",
    "import numpy as np\n",
    "from joblib import load"
   ]
  },
  {
   "cell_type": "markdown",
   "id": "0f646ce4",
   "metadata": {},
   "source": [
    "## Create Restful Service using Flask\n",
    "\n",
    "### What is flask framework?\n",
    "\n",
    "Flask is a web framework, it’s a Python module that lets you develop web applications easily.\n",
    "\n",
    "A Web Application Framework or a simply a Web Framework represents a collection of libraries and modules that enable web application developers to write applications without worrying about low-level details such as protocol, thread management, and so on.\n",
    "\n",
    "Source: https://pythonbasics.org/what-is-flask-python/"
   ]
  },
  {
   "cell_type": "code",
   "execution_count": 2,
   "id": "cd8c093e",
   "metadata": {},
   "outputs": [],
   "source": [
    "from flask import Flask, jsonify, request\n",
    "import json \n",
    "\n",
    "# creating a Flask app\n",
    "app = Flask(__name__)\n",
    "app.verbose = True\n",
    "app.model_object = load(\"car_prediction.pkl\")\n",
    "  \n",
    "@app.route('/', methods = ['GET', 'POST'])\n",
    "def home():\n",
    "    if(request.method == 'GET'):\n",
    "  \n",
    "        data = \"\"\"This is resale car prediction app. \n",
    "         \n",
    "         Send the request in json format as given in the example below: \n",
    "         \n",
    "         {'Fuel_Type': 'Diesel',\n",
    "          'Transmission': 'Manual',\n",
    "          'Owner_Type': 'First',\n",
    "          'Age': 8,\n",
    "          'Model': 'ertiga',\n",
    "          'KM_Driven': 87}\"\"\"\n",
    "    \n",
    "        return data\n",
    "  \n",
    "\n",
    "@app.route('/predict', methods=['POST'])\n",
    "def predict():\n",
    "    if(request.method == 'POST'):\n",
    "        #car_json = jsonify(request.json)\n",
    "        data = json.loads(request.data)\n",
    "        print(data)\n",
    "        car_df = pd.DataFrame(data, index = [0])\n",
    "        car_price = app.model_object.predict(car_df)\n",
    "\n",
    "        return jsonify({\"Sale_Price\": \"INR \" \n",
    "                                      + str(np.round(car_price[0], 2)) \n",
    "                                      + \" Lakhs\"})"
   ]
  },
  {
   "cell_type": "markdown",
   "id": "cb645397",
   "metadata": {},
   "source": [
    "## Start the Service"
   ]
  },
  {
   "cell_type": "code",
   "execution_count": 3,
   "id": "65960f16",
   "metadata": {},
   "outputs": [
    {
     "name": "stdout",
     "output_type": "stream",
     "text": [
      " * Serving Flask app '__main__'\n",
      " * Debug mode: on\n"
     ]
    },
    {
     "name": "stderr",
     "output_type": "stream",
     "text": [
      "WARNING: This is a development server. Do not use it in a production deployment. Use a production WSGI server instead.\n",
      " * Running on http://127.0.0.1:5001\n",
      "Press CTRL+C to quit\n",
      "127.0.0.1 - - [11/Jul/2023 11:05:22] \"POST /predict HTTP/1.1\" 200 -\n"
     ]
    },
    {
     "name": "stdout",
     "output_type": "stream",
     "text": [
      "{'Fuel_Type': 'Diesel', 'Transmission': 'Manual', 'Owner_Type': 'First', 'Age': 8, 'Model': 'ertiga', 'KM_Driven': 87}\n"
     ]
    },
    {
     "name": "stderr",
     "output_type": "stream",
     "text": [
      "127.0.0.1 - - [11/Jul/2023 11:06:01] \"GET / HTTP/1.1\" 200 -\n",
      "127.0.0.1 - - [11/Jul/2023 11:06:01] \"GET /favicon.ico HTTP/1.1\" 404 -\n",
      "127.0.0.1 - - [11/Jul/2023 11:12:08] \"GET / HTTP/1.1\" 200 -\n",
      "127.0.0.1 - - [11/Jul/2023 11:12:08] \"GET / HTTP/1.1\" 200 -\n",
      "127.0.0.1 - - [11/Jul/2023 11:12:08] \"GET /favicon.ico HTTP/1.1\" 404 -\n",
      "127.0.0.1 - - [11/Jul/2023 11:12:19] \"GET /predict HTTP/1.1\" 405 -\n",
      "127.0.0.1 - - [11/Jul/2023 11:12:19] \"GET /predict HTTP/1.1\" 405 -\n"
     ]
    }
   ],
   "source": [
    "app.run(port=5001, \n",
    "        debug=True, \n",
    "        use_reloader=False)  # run app in debug mode on port 5000"
   ]
  }
 ],
 "metadata": {
  "kernelspec": {
   "display_name": "Python 3 (ipykernel)",
   "language": "python",
   "name": "python3"
  },
  "language_info": {
   "codemirror_mode": {
    "name": "ipython",
    "version": 3
   },
   "file_extension": ".py",
   "mimetype": "text/x-python",
   "name": "python",
   "nbconvert_exporter": "python",
   "pygments_lexer": "ipython3",
   "version": "3.11.4"
  }
 },
 "nbformat": 4,
 "nbformat_minor": 5
}
