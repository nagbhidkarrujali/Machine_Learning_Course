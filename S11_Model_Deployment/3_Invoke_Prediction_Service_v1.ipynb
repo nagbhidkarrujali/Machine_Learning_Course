{
 "cells": [
  {
   "cell_type": "markdown",
   "id": "93982cde",
   "metadata": {},
   "source": [
    "# Invoking the Prediction Service\n",
    "## Prepare the data"
   ]
  },
  {
   "cell_type": "code",
   "execution_count": 1,
   "id": "4ffb8c24",
   "metadata": {},
   "outputs": [],
   "source": [
    "import requests, json"
   ]
  },
  {
   "cell_type": "code",
   "execution_count": 2,
   "id": "8d0821ad",
   "metadata": {},
   "outputs": [],
   "source": [
    "data = \"\"\"{\"Fuel_Type\": \"Diesel\",\n",
    "           \"Transmission\": \"Manual\",\n",
    "           \"Owner_Type\": \"First\",\n",
    "           \"Age\": 8,\n",
    "           \"Model\": \"ertiga\",\n",
    "           \"KM_Driven\": 87}\n",
    "         \"\"\""
   ]
  },
  {
   "cell_type": "code",
   "execution_count": 3,
   "id": "64a202ba",
   "metadata": {},
   "outputs": [],
   "source": [
    "json_data = data.replace('\\n', '').replace(' ','')"
   ]
  },
  {
   "cell_type": "code",
   "execution_count": 4,
   "id": "7181d899",
   "metadata": {},
   "outputs": [
    {
     "data": {
      "text/plain": [
       "'{\"Fuel_Type\":\"Diesel\",\"Transmission\":\"Manual\",\"Owner_Type\":\"First\",\"Age\":8,\"Model\":\"ertiga\",\"KM_Driven\":87}'"
      ]
     },
     "execution_count": 4,
     "metadata": {},
     "output_type": "execute_result"
    }
   ],
   "source": [
    "json_data"
   ]
  },
  {
   "cell_type": "code",
   "execution_count": 5,
   "id": "cbfe3b4a",
   "metadata": {},
   "outputs": [],
   "source": [
    "response = requests.post('http://127.0.0.1:5001/predict', data=json_data)"
   ]
  },
  {
   "cell_type": "code",
   "execution_count": 6,
   "id": "afbc1e99",
   "metadata": {},
   "outputs": [
    {
     "data": {
      "text/plain": [
       "<Response [200]>"
      ]
     },
     "execution_count": 6,
     "metadata": {},
     "output_type": "execute_result"
    }
   ],
   "source": [
    "response"
   ]
  },
  {
   "cell_type": "code",
   "execution_count": 7,
   "id": "f8cf07c9",
   "metadata": {},
   "outputs": [
    {
     "name": "stdout",
     "output_type": "stream",
     "text": [
      "{'Sale_Price': 'INR 6.17 Lakhs'}\n"
     ]
    }
   ],
   "source": [
    "print(response.json())"
   ]
  }
 ],
 "metadata": {
  "kernelspec": {
   "display_name": "Python 3 (ipykernel)",
   "language": "python",
   "name": "python3"
  },
  "language_info": {
   "codemirror_mode": {
    "name": "ipython",
    "version": 3
   },
   "file_extension": ".py",
   "mimetype": "text/x-python",
   "name": "python",
   "nbconvert_exporter": "python",
   "pygments_lexer": "ipython3",
   "version": "3.11.4"
  }
 },
 "nbformat": 4,
 "nbformat_minor": 5
}
